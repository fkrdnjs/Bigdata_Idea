{
 "cells": [
  {
   "cell_type": "markdown",
   "metadata": {},
   "source": [
    "### Import 및 폰트 설정"
   ]
  },
  {
   "cell_type": "code",
   "execution_count": 1,
   "metadata": {},
   "outputs": [],
   "source": [
    "import numpy as np\n",
    "import pandas as pd\n",
    "\n",
    "import statsmodels.api as sm\n",
    "\n",
    "import matplotlib.pyplot as plt\n",
    "import seaborn as sns\n",
    "\n",
    "from sklearn.model_selection import train_test_split\n",
    "from sklearn.preprocessing import StandardScaler\n",
    "\n",
    "from sklearn.preprocessing import PolynomialFeatures\n",
    "from sklearn.linear_model import LinearRegression\n",
    "from sklearn.svm import SVR\n",
    "from sklearn.ensemble import RandomForestRegressor\n",
    "from sklearn.tree import DecisionTreeRegressor\n",
    "from sklearn.linear_model import ElasticNet\n",
    "from sklearn.metrics import mean_squared_error\n",
    "from sklearn.metrics import r2_score"
   ]
  },
  {
   "cell_type": "code",
   "execution_count": 2,
   "metadata": {},
   "outputs": [],
   "source": [
    "plt.rcParams['font.family'] ='Malgun Gothic'\n",
    "plt.rcParams['axes.unicode_minus'] =False"
   ]
  },
  {
   "cell_type": "markdown",
   "metadata": {},
   "source": [
    "### 데이터 로드"
   ]
  },
  {
   "cell_type": "code",
   "execution_count": 3,
   "metadata": {},
   "outputs": [
    {
     "data": {
      "text/html": [
       "<div>\n",
       "<style scoped>\n",
       "    .dataframe tbody tr th:only-of-type {\n",
       "        vertical-align: middle;\n",
       "    }\n",
       "\n",
       "    .dataframe tbody tr th {\n",
       "        vertical-align: top;\n",
       "    }\n",
       "\n",
       "    .dataframe thead th {\n",
       "        text-align: right;\n",
       "    }\n",
       "</style>\n",
       "<table border=\"1\" class=\"dataframe\">\n",
       "  <thead>\n",
       "    <tr style=\"text-align: right;\">\n",
       "      <th></th>\n",
       "      <th>년도</th>\n",
       "      <th>우울증_65세이상</th>\n",
       "      <th>실업률_60세이상</th>\n",
       "      <th>빈곤률</th>\n",
       "      <th>1인가구</th>\n",
       "      <th>무연고사망자수</th>\n",
       "    </tr>\n",
       "  </thead>\n",
       "  <tbody>\n",
       "    <tr>\n",
       "      <th>0</th>\n",
       "      <td>1985</td>\n",
       "      <td>NaN</td>\n",
       "      <td>0.3</td>\n",
       "      <td>NaN</td>\n",
       "      <td>8.4</td>\n",
       "      <td>NaN</td>\n",
       "    </tr>\n",
       "    <tr>\n",
       "      <th>1</th>\n",
       "      <td>1986</td>\n",
       "      <td>NaN</td>\n",
       "      <td>0.3</td>\n",
       "      <td>NaN</td>\n",
       "      <td>NaN</td>\n",
       "      <td>NaN</td>\n",
       "    </tr>\n",
       "    <tr>\n",
       "      <th>2</th>\n",
       "      <td>1987</td>\n",
       "      <td>NaN</td>\n",
       "      <td>0.3</td>\n",
       "      <td>NaN</td>\n",
       "      <td>NaN</td>\n",
       "      <td>NaN</td>\n",
       "    </tr>\n",
       "    <tr>\n",
       "      <th>3</th>\n",
       "      <td>1988</td>\n",
       "      <td>NaN</td>\n",
       "      <td>0.2</td>\n",
       "      <td>NaN</td>\n",
       "      <td>NaN</td>\n",
       "      <td>NaN</td>\n",
       "    </tr>\n",
       "    <tr>\n",
       "      <th>4</th>\n",
       "      <td>1989</td>\n",
       "      <td>NaN</td>\n",
       "      <td>0.2</td>\n",
       "      <td>NaN</td>\n",
       "      <td>NaN</td>\n",
       "      <td>NaN</td>\n",
       "    </tr>\n",
       "    <tr>\n",
       "      <th>5</th>\n",
       "      <td>1990</td>\n",
       "      <td>NaN</td>\n",
       "      <td>0.4</td>\n",
       "      <td>NaN</td>\n",
       "      <td>10.9</td>\n",
       "      <td>NaN</td>\n",
       "    </tr>\n",
       "    <tr>\n",
       "      <th>6</th>\n",
       "      <td>1991</td>\n",
       "      <td>NaN</td>\n",
       "      <td>0.3</td>\n",
       "      <td>NaN</td>\n",
       "      <td>NaN</td>\n",
       "      <td>NaN</td>\n",
       "    </tr>\n",
       "    <tr>\n",
       "      <th>7</th>\n",
       "      <td>1992</td>\n",
       "      <td>NaN</td>\n",
       "      <td>0.4</td>\n",
       "      <td>NaN</td>\n",
       "      <td>NaN</td>\n",
       "      <td>NaN</td>\n",
       "    </tr>\n",
       "    <tr>\n",
       "      <th>8</th>\n",
       "      <td>1993</td>\n",
       "      <td>NaN</td>\n",
       "      <td>0.4</td>\n",
       "      <td>NaN</td>\n",
       "      <td>NaN</td>\n",
       "      <td>NaN</td>\n",
       "    </tr>\n",
       "    <tr>\n",
       "      <th>9</th>\n",
       "      <td>1994</td>\n",
       "      <td>NaN</td>\n",
       "      <td>0.3</td>\n",
       "      <td>NaN</td>\n",
       "      <td>NaN</td>\n",
       "      <td>NaN</td>\n",
       "    </tr>\n",
       "    <tr>\n",
       "      <th>10</th>\n",
       "      <td>1995</td>\n",
       "      <td>NaN</td>\n",
       "      <td>0.4</td>\n",
       "      <td>NaN</td>\n",
       "      <td>13.5</td>\n",
       "      <td>NaN</td>\n",
       "    </tr>\n",
       "    <tr>\n",
       "      <th>11</th>\n",
       "      <td>1996</td>\n",
       "      <td>NaN</td>\n",
       "      <td>0.4</td>\n",
       "      <td>NaN</td>\n",
       "      <td>NaN</td>\n",
       "      <td>NaN</td>\n",
       "    </tr>\n",
       "    <tr>\n",
       "      <th>12</th>\n",
       "      <td>1997</td>\n",
       "      <td>NaN</td>\n",
       "      <td>0.8</td>\n",
       "      <td>NaN</td>\n",
       "      <td>NaN</td>\n",
       "      <td>NaN</td>\n",
       "    </tr>\n",
       "    <tr>\n",
       "      <th>13</th>\n",
       "      <td>1998</td>\n",
       "      <td>NaN</td>\n",
       "      <td>2.4</td>\n",
       "      <td>NaN</td>\n",
       "      <td>NaN</td>\n",
       "      <td>NaN</td>\n",
       "    </tr>\n",
       "    <tr>\n",
       "      <th>14</th>\n",
       "      <td>1999</td>\n",
       "      <td>NaN</td>\n",
       "      <td>2.3</td>\n",
       "      <td>NaN</td>\n",
       "      <td>NaN</td>\n",
       "      <td>NaN</td>\n",
       "    </tr>\n",
       "    <tr>\n",
       "      <th>15</th>\n",
       "      <td>2000</td>\n",
       "      <td>NaN</td>\n",
       "      <td>1.5</td>\n",
       "      <td>NaN</td>\n",
       "      <td>16.0</td>\n",
       "      <td>NaN</td>\n",
       "    </tr>\n",
       "    <tr>\n",
       "      <th>16</th>\n",
       "      <td>2001</td>\n",
       "      <td>NaN</td>\n",
       "      <td>1.2</td>\n",
       "      <td>NaN</td>\n",
       "      <td>16.2</td>\n",
       "      <td>NaN</td>\n",
       "    </tr>\n",
       "    <tr>\n",
       "      <th>17</th>\n",
       "      <td>2002</td>\n",
       "      <td>NaN</td>\n",
       "      <td>1.1</td>\n",
       "      <td>NaN</td>\n",
       "      <td>16.5</td>\n",
       "      <td>NaN</td>\n",
       "    </tr>\n",
       "    <tr>\n",
       "      <th>18</th>\n",
       "      <td>2003</td>\n",
       "      <td>NaN</td>\n",
       "      <td>1.0</td>\n",
       "      <td>NaN</td>\n",
       "      <td>16.7</td>\n",
       "      <td>NaN</td>\n",
       "    </tr>\n",
       "    <tr>\n",
       "      <th>19</th>\n",
       "      <td>2004</td>\n",
       "      <td>NaN</td>\n",
       "      <td>1.2</td>\n",
       "      <td>NaN</td>\n",
       "      <td>17.0</td>\n",
       "      <td>NaN</td>\n",
       "    </tr>\n",
       "    <tr>\n",
       "      <th>20</th>\n",
       "      <td>2005</td>\n",
       "      <td>NaN</td>\n",
       "      <td>1.3</td>\n",
       "      <td>NaN</td>\n",
       "      <td>17.3</td>\n",
       "      <td>NaN</td>\n",
       "    </tr>\n",
       "    <tr>\n",
       "      <th>21</th>\n",
       "      <td>2006</td>\n",
       "      <td>NaN</td>\n",
       "      <td>1.4</td>\n",
       "      <td>42.8</td>\n",
       "      <td>17.5</td>\n",
       "      <td>735.0</td>\n",
       "    </tr>\n",
       "    <tr>\n",
       "      <th>22</th>\n",
       "      <td>2007</td>\n",
       "      <td>4.55</td>\n",
       "      <td>1.4</td>\n",
       "      <td>43.6</td>\n",
       "      <td>17.7</td>\n",
       "      <td>603.0</td>\n",
       "    </tr>\n",
       "    <tr>\n",
       "      <th>23</th>\n",
       "      <td>2008</td>\n",
       "      <td>4.65</td>\n",
       "      <td>1.2</td>\n",
       "      <td>44.1</td>\n",
       "      <td>17.9</td>\n",
       "      <td>563.0</td>\n",
       "    </tr>\n",
       "    <tr>\n",
       "      <th>24</th>\n",
       "      <td>2009</td>\n",
       "      <td>4.90</td>\n",
       "      <td>1.6</td>\n",
       "      <td>45.9</td>\n",
       "      <td>18.2</td>\n",
       "      <td>521.0</td>\n",
       "    </tr>\n",
       "    <tr>\n",
       "      <th>25</th>\n",
       "      <td>2010</td>\n",
       "      <td>3.55</td>\n",
       "      <td>2.8</td>\n",
       "      <td>46.3</td>\n",
       "      <td>18.5</td>\n",
       "      <td>578.0</td>\n",
       "    </tr>\n",
       "    <tr>\n",
       "      <th>26</th>\n",
       "      <td>2011</td>\n",
       "      <td>4.00</td>\n",
       "      <td>2.6</td>\n",
       "      <td>46.5</td>\n",
       "      <td>18.5</td>\n",
       "      <td>675.0</td>\n",
       "    </tr>\n",
       "    <tr>\n",
       "      <th>27</th>\n",
       "      <td>2012</td>\n",
       "      <td>4.45</td>\n",
       "      <td>2.4</td>\n",
       "      <td>45.4</td>\n",
       "      <td>18.4</td>\n",
       "      <td>1025.0</td>\n",
       "    </tr>\n",
       "    <tr>\n",
       "      <th>28</th>\n",
       "      <td>2013</td>\n",
       "      <td>5.55</td>\n",
       "      <td>1.8</td>\n",
       "      <td>46.3</td>\n",
       "      <td>18.4</td>\n",
       "      <td>1280.0</td>\n",
       "    </tr>\n",
       "    <tr>\n",
       "      <th>29</th>\n",
       "      <td>2014</td>\n",
       "      <td>5.75</td>\n",
       "      <td>2.3</td>\n",
       "      <td>44.5</td>\n",
       "      <td>18.4</td>\n",
       "      <td>1379.0</td>\n",
       "    </tr>\n",
       "    <tr>\n",
       "      <th>30</th>\n",
       "      <td>2015</td>\n",
       "      <td>5.35</td>\n",
       "      <td>2.5</td>\n",
       "      <td>43.2</td>\n",
       "      <td>18.5</td>\n",
       "      <td>1676.0</td>\n",
       "    </tr>\n",
       "    <tr>\n",
       "      <th>31</th>\n",
       "      <td>2016</td>\n",
       "      <td>5.80</td>\n",
       "      <td>2.7</td>\n",
       "      <td>43.6</td>\n",
       "      <td>18.8</td>\n",
       "      <td>1820.0</td>\n",
       "    </tr>\n",
       "    <tr>\n",
       "      <th>32</th>\n",
       "      <td>2017</td>\n",
       "      <td>6.55</td>\n",
       "      <td>2.9</td>\n",
       "      <td>42.3</td>\n",
       "      <td>19.0</td>\n",
       "      <td>2008.0</td>\n",
       "    </tr>\n",
       "    <tr>\n",
       "      <th>33</th>\n",
       "      <td>2018</td>\n",
       "      <td>6.35</td>\n",
       "      <td>3.1</td>\n",
       "      <td>42.0</td>\n",
       "      <td>19.3</td>\n",
       "      <td>2447.0</td>\n",
       "    </tr>\n",
       "    <tr>\n",
       "      <th>34</th>\n",
       "      <td>2019</td>\n",
       "      <td>5.70</td>\n",
       "      <td>3.4</td>\n",
       "      <td>41.4</td>\n",
       "      <td>19.5</td>\n",
       "      <td>2656.0</td>\n",
       "    </tr>\n",
       "    <tr>\n",
       "      <th>35</th>\n",
       "      <td>2020</td>\n",
       "      <td>5.75</td>\n",
       "      <td>3.6</td>\n",
       "      <td>38.9</td>\n",
       "      <td>19.8</td>\n",
       "      <td>3136.0</td>\n",
       "    </tr>\n",
       "    <tr>\n",
       "      <th>36</th>\n",
       "      <td>2021</td>\n",
       "      <td>5.95</td>\n",
       "      <td>3.8</td>\n",
       "      <td>39.3</td>\n",
       "      <td>20.6</td>\n",
       "      <td>3603.0</td>\n",
       "    </tr>\n",
       "    <tr>\n",
       "      <th>37</th>\n",
       "      <td>2022</td>\n",
       "      <td>NaN</td>\n",
       "      <td>2.8</td>\n",
       "      <td>38.1</td>\n",
       "      <td>20.9</td>\n",
       "      <td>4842.0</td>\n",
       "    </tr>\n",
       "    <tr>\n",
       "      <th>38</th>\n",
       "      <td>2023</td>\n",
       "      <td>NaN</td>\n",
       "      <td>2.6</td>\n",
       "      <td>NaN</td>\n",
       "      <td>21.1</td>\n",
       "      <td>NaN</td>\n",
       "    </tr>\n",
       "  </tbody>\n",
       "</table>\n",
       "</div>"
      ],
      "text/plain": [
       "      년도  우울증_65세이상  실업률_60세이상   빈곤률  1인가구  무연고사망자수\n",
       "0   1985        NaN        0.3   NaN   8.4      NaN\n",
       "1   1986        NaN        0.3   NaN   NaN      NaN\n",
       "2   1987        NaN        0.3   NaN   NaN      NaN\n",
       "3   1988        NaN        0.2   NaN   NaN      NaN\n",
       "4   1989        NaN        0.2   NaN   NaN      NaN\n",
       "5   1990        NaN        0.4   NaN  10.9      NaN\n",
       "6   1991        NaN        0.3   NaN   NaN      NaN\n",
       "7   1992        NaN        0.4   NaN   NaN      NaN\n",
       "8   1993        NaN        0.4   NaN   NaN      NaN\n",
       "9   1994        NaN        0.3   NaN   NaN      NaN\n",
       "10  1995        NaN        0.4   NaN  13.5      NaN\n",
       "11  1996        NaN        0.4   NaN   NaN      NaN\n",
       "12  1997        NaN        0.8   NaN   NaN      NaN\n",
       "13  1998        NaN        2.4   NaN   NaN      NaN\n",
       "14  1999        NaN        2.3   NaN   NaN      NaN\n",
       "15  2000        NaN        1.5   NaN  16.0      NaN\n",
       "16  2001        NaN        1.2   NaN  16.2      NaN\n",
       "17  2002        NaN        1.1   NaN  16.5      NaN\n",
       "18  2003        NaN        1.0   NaN  16.7      NaN\n",
       "19  2004        NaN        1.2   NaN  17.0      NaN\n",
       "20  2005        NaN        1.3   NaN  17.3      NaN\n",
       "21  2006        NaN        1.4  42.8  17.5    735.0\n",
       "22  2007       4.55        1.4  43.6  17.7    603.0\n",
       "23  2008       4.65        1.2  44.1  17.9    563.0\n",
       "24  2009       4.90        1.6  45.9  18.2    521.0\n",
       "25  2010       3.55        2.8  46.3  18.5    578.0\n",
       "26  2011       4.00        2.6  46.5  18.5    675.0\n",
       "27  2012       4.45        2.4  45.4  18.4   1025.0\n",
       "28  2013       5.55        1.8  46.3  18.4   1280.0\n",
       "29  2014       5.75        2.3  44.5  18.4   1379.0\n",
       "30  2015       5.35        2.5  43.2  18.5   1676.0\n",
       "31  2016       5.80        2.7  43.6  18.8   1820.0\n",
       "32  2017       6.55        2.9  42.3  19.0   2008.0\n",
       "33  2018       6.35        3.1  42.0  19.3   2447.0\n",
       "34  2019       5.70        3.4  41.4  19.5   2656.0\n",
       "35  2020       5.75        3.6  38.9  19.8   3136.0\n",
       "36  2021       5.95        3.8  39.3  20.6   3603.0\n",
       "37  2022        NaN        2.8  38.1  20.9   4842.0\n",
       "38  2023        NaN        2.6   NaN  21.1      NaN"
      ]
     },
     "execution_count": 3,
     "metadata": {},
     "output_type": "execute_result"
    }
   ],
   "source": [
    "data = pd.read_csv('G:\\\\내 드라이브\\\\노트북\\\\23-겨울\\\\빅데이터_미래사회\\\\data\\\\고독사_데이터 - 시트1.csv')\n",
    "data"
   ]
  },
  {
   "cell_type": "code",
   "execution_count": 4,
   "metadata": {},
   "outputs": [
    {
     "data": {
      "text/html": [
       "<div>\n",
       "<style scoped>\n",
       "    .dataframe tbody tr th:only-of-type {\n",
       "        vertical-align: middle;\n",
       "    }\n",
       "\n",
       "    .dataframe tbody tr th {\n",
       "        vertical-align: top;\n",
       "    }\n",
       "\n",
       "    .dataframe thead th {\n",
       "        text-align: right;\n",
       "    }\n",
       "</style>\n",
       "<table border=\"1\" class=\"dataframe\">\n",
       "  <thead>\n",
       "    <tr style=\"text-align: right;\">\n",
       "      <th></th>\n",
       "      <th>년도</th>\n",
       "      <th>우울증_65세이상</th>\n",
       "      <th>실업률_60세이상</th>\n",
       "      <th>빈곤률</th>\n",
       "      <th>1인가구</th>\n",
       "      <th>무연고사망자수</th>\n",
       "    </tr>\n",
       "  </thead>\n",
       "  <tbody>\n",
       "    <tr>\n",
       "      <th>0</th>\n",
       "      <td>2007</td>\n",
       "      <td>4.55</td>\n",
       "      <td>1.4</td>\n",
       "      <td>43.6</td>\n",
       "      <td>17.7</td>\n",
       "      <td>603.0</td>\n",
       "    </tr>\n",
       "    <tr>\n",
       "      <th>1</th>\n",
       "      <td>2008</td>\n",
       "      <td>4.65</td>\n",
       "      <td>1.2</td>\n",
       "      <td>44.1</td>\n",
       "      <td>17.9</td>\n",
       "      <td>563.0</td>\n",
       "    </tr>\n",
       "    <tr>\n",
       "      <th>2</th>\n",
       "      <td>2009</td>\n",
       "      <td>4.90</td>\n",
       "      <td>1.6</td>\n",
       "      <td>45.9</td>\n",
       "      <td>18.2</td>\n",
       "      <td>521.0</td>\n",
       "    </tr>\n",
       "    <tr>\n",
       "      <th>3</th>\n",
       "      <td>2010</td>\n",
       "      <td>3.55</td>\n",
       "      <td>2.8</td>\n",
       "      <td>46.3</td>\n",
       "      <td>18.5</td>\n",
       "      <td>578.0</td>\n",
       "    </tr>\n",
       "    <tr>\n",
       "      <th>4</th>\n",
       "      <td>2011</td>\n",
       "      <td>4.00</td>\n",
       "      <td>2.6</td>\n",
       "      <td>46.5</td>\n",
       "      <td>18.5</td>\n",
       "      <td>675.0</td>\n",
       "    </tr>\n",
       "    <tr>\n",
       "      <th>5</th>\n",
       "      <td>2012</td>\n",
       "      <td>4.45</td>\n",
       "      <td>2.4</td>\n",
       "      <td>45.4</td>\n",
       "      <td>18.4</td>\n",
       "      <td>1025.0</td>\n",
       "    </tr>\n",
       "    <tr>\n",
       "      <th>6</th>\n",
       "      <td>2013</td>\n",
       "      <td>5.55</td>\n",
       "      <td>1.8</td>\n",
       "      <td>46.3</td>\n",
       "      <td>18.4</td>\n",
       "      <td>1280.0</td>\n",
       "    </tr>\n",
       "    <tr>\n",
       "      <th>7</th>\n",
       "      <td>2014</td>\n",
       "      <td>5.75</td>\n",
       "      <td>2.3</td>\n",
       "      <td>44.5</td>\n",
       "      <td>18.4</td>\n",
       "      <td>1379.0</td>\n",
       "    </tr>\n",
       "    <tr>\n",
       "      <th>8</th>\n",
       "      <td>2015</td>\n",
       "      <td>5.35</td>\n",
       "      <td>2.5</td>\n",
       "      <td>43.2</td>\n",
       "      <td>18.5</td>\n",
       "      <td>1676.0</td>\n",
       "    </tr>\n",
       "    <tr>\n",
       "      <th>9</th>\n",
       "      <td>2016</td>\n",
       "      <td>5.80</td>\n",
       "      <td>2.7</td>\n",
       "      <td>43.6</td>\n",
       "      <td>18.8</td>\n",
       "      <td>1820.0</td>\n",
       "    </tr>\n",
       "    <tr>\n",
       "      <th>10</th>\n",
       "      <td>2017</td>\n",
       "      <td>6.55</td>\n",
       "      <td>2.9</td>\n",
       "      <td>42.3</td>\n",
       "      <td>19.0</td>\n",
       "      <td>2008.0</td>\n",
       "    </tr>\n",
       "    <tr>\n",
       "      <th>11</th>\n",
       "      <td>2018</td>\n",
       "      <td>6.35</td>\n",
       "      <td>3.1</td>\n",
       "      <td>42.0</td>\n",
       "      <td>19.3</td>\n",
       "      <td>2447.0</td>\n",
       "    </tr>\n",
       "    <tr>\n",
       "      <th>12</th>\n",
       "      <td>2019</td>\n",
       "      <td>5.70</td>\n",
       "      <td>3.4</td>\n",
       "      <td>41.4</td>\n",
       "      <td>19.5</td>\n",
       "      <td>2656.0</td>\n",
       "    </tr>\n",
       "    <tr>\n",
       "      <th>13</th>\n",
       "      <td>2020</td>\n",
       "      <td>5.75</td>\n",
       "      <td>3.6</td>\n",
       "      <td>38.9</td>\n",
       "      <td>19.8</td>\n",
       "      <td>3136.0</td>\n",
       "    </tr>\n",
       "    <tr>\n",
       "      <th>14</th>\n",
       "      <td>2021</td>\n",
       "      <td>5.95</td>\n",
       "      <td>3.8</td>\n",
       "      <td>39.3</td>\n",
       "      <td>20.6</td>\n",
       "      <td>3603.0</td>\n",
       "    </tr>\n",
       "  </tbody>\n",
       "</table>\n",
       "</div>"
      ],
      "text/plain": [
       "      년도  우울증_65세이상  실업률_60세이상   빈곤률  1인가구  무연고사망자수\n",
       "0   2007       4.55        1.4  43.6  17.7    603.0\n",
       "1   2008       4.65        1.2  44.1  17.9    563.0\n",
       "2   2009       4.90        1.6  45.9  18.2    521.0\n",
       "3   2010       3.55        2.8  46.3  18.5    578.0\n",
       "4   2011       4.00        2.6  46.5  18.5    675.0\n",
       "5   2012       4.45        2.4  45.4  18.4   1025.0\n",
       "6   2013       5.55        1.8  46.3  18.4   1280.0\n",
       "7   2014       5.75        2.3  44.5  18.4   1379.0\n",
       "8   2015       5.35        2.5  43.2  18.5   1676.0\n",
       "9   2016       5.80        2.7  43.6  18.8   1820.0\n",
       "10  2017       6.55        2.9  42.3  19.0   2008.0\n",
       "11  2018       6.35        3.1  42.0  19.3   2447.0\n",
       "12  2019       5.70        3.4  41.4  19.5   2656.0\n",
       "13  2020       5.75        3.6  38.9  19.8   3136.0\n",
       "14  2021       5.95        3.8  39.3  20.6   3603.0"
      ]
     },
     "execution_count": 4,
     "metadata": {},
     "output_type": "execute_result"
    }
   ],
   "source": [
    "select_data = data.loc[22:36]\n",
    "select_data = select_data.reset_index(drop = True)\n",
    "select_data"
   ]
  },
  {
   "cell_type": "markdown",
   "metadata": {},
   "source": [
    "### 상관관계 확인 -> 의미 있는 변수 확인해보기"
   ]
  },
  {
   "cell_type": "code",
   "execution_count": 5,
   "metadata": {},
   "outputs": [
    {
     "data": {
      "image/png": "[encoded data removed]",
      "text/plain": [
       "<Figure size 640x480 with 2 Axes>"
      ]
     },
     "metadata": {},
     "output_type": "display_data"
    }
   ],
   "source": [
    "sns.heatmap(select_data.corr(), annot = True)\n",
    "plt.show()"
   ]
  },
  {
   "cell_type": "markdown",
   "metadata": {},
   "source": [
    "- 모든 변수의 높은 상관관계 확인\n",
    "- OLS 분석 시도 "
   ]
  },
  {
   "cell_type": "code",
   "execution_count": 6,
   "metadata": {},
   "outputs": [],
   "source": [
    "X = select_data.drop(['무연고사망자수', '년도'], axis = 1)\n",
    "Y = select_data['무연고사망자수']"
   ]
  },
  {
   "cell_type": "code",
   "execution_count": 7,
   "metadata": {},
   "outputs": [
    {
     "name": "stdout",
     "output_type": "stream",
     "text": [
      "                            OLS Regression Results                            \n",
      "==============================================================================\n",
      "Dep. Variable:                무연고사망자수   R-squared:                       0.980\n",
      "Model:                            OLS   Adj. R-squared:                  0.972\n",
      "Method:                 Least Squares   F-statistic:                     121.6\n",
      "Date:                Sun, 25 Feb 2024   Prob (F-statistic):           1.95e-08\n",
      "Time:                        15:32:01   Log-Likelihood:                -95.116\n",
      "No. Observations:                  15   AIC:                             200.2\n",
      "Df Residuals:                      10   BIC:                             203.8\n",
      "Df Model:                           4                                         \n",
      "Covariance Type:            nonrobust                                         \n",
      "==============================================================================\n",
      "                 coef    std err          t      P>|t|      [0.025      0.975]\n",
      "------------------------------------------------------------------------------\n",
      "const      -6539.3499   4145.609     -1.577      0.146   -1.58e+04    2697.643\n",
      "우울증_65세이상    273.2908     70.200      3.893      0.003     116.876     429.706\n",
      "실업률_60세이상    143.6025    150.313      0.955      0.362    -191.315     478.520\n",
      "빈곤률         -121.1469     33.814     -3.583      0.005    -196.489     -45.805\n",
      "1인가구         618.7754    188.553      3.282      0.008     198.653    1038.898\n",
      "==============================================================================\n",
      "Omnibus:                        0.579   Durbin-Watson:                   1.414\n",
      "Prob(Omnibus):                  0.749   Jarque-Bera (JB):                0.100\n",
      "Skew:                          -0.199   Prob(JB):                        0.951\n",
      "Kurtosis:                       2.958   Cond. No.                     4.57e+03\n",
      "==============================================================================\n",
      "\n",
      "Notes:\n",
      "[1] Standard Errors assume that the covariance matrix of the errors is correctly specified.\n",
      "[2] The condition number is large, 4.57e+03. This might indicate that there are\n",
      "strong multicollinearity or other numerical problems.\n"
     ]
    },
    {
     "name": "stderr",
     "output_type": "stream",
     "text": [
      "g:\\내 드라이브\\노트북\\23-겨울\\빅데이터_미래사회\\venv\\Lib\\site-packages\\scipy\\stats\\_stats_py.py:1806: UserWarning: kurtosistest only valid for n>=20 ... continuing anyway, n=15\n",
      "  warnings.warn(\"kurtosistest only valid for n>=20 ... continuing \"\n"
     ]
    }
   ],
   "source": [
    "X = sm.add_constant(X)\n",
    "model = sm.OLS(Y, X).fit()\n",
    "\n",
    "print(model.summary())"
   ]
  },
  {
   "cell_type": "markdown",
   "metadata": {},
   "source": [
    "- 우울증, 빈곤률, 1인가구 feature가 유의미함"
   ]
  },
  {
   "cell_type": "markdown",
   "metadata": {},
   "source": [
    "- 정규화 후 다시 확인"
   ]
  },
  {
   "cell_type": "code",
   "execution_count": 8,
   "metadata": {},
   "outputs": [
    {
     "name": "stdout",
     "output_type": "stream",
     "text": [
      "                            OLS Regression Results                            \n",
      "==============================================================================\n",
      "Dep. Variable:                무연고사망자수   R-squared:                       0.980\n",
      "Model:                            OLS   Adj. R-squared:                  0.972\n",
      "Method:                 Least Squares   F-statistic:                     121.6\n",
      "Date:                Sun, 25 Feb 2024   Prob (F-statistic):           1.95e-08\n",
      "Time:                        15:32:03   Log-Likelihood:                -95.116\n",
      "No. Observations:                  15   AIC:                             200.2\n",
      "Df Residuals:                      10   BIC:                             203.8\n",
      "Df Model:                           4                                         \n",
      "Covariance Type:            nonrobust                                         \n",
      "==============================================================================\n",
      "                 coef    std err          t      P>|t|      [0.025      0.975]\n",
      "------------------------------------------------------------------------------\n",
      "const       1598.0000     43.415     36.807      0.000    1501.265    1694.735\n",
      "x1         -5.544e-14   6.55e-14     -0.846      0.417   -2.01e-13    9.06e-14\n",
      "x2           229.2967     58.899      3.893      0.003      98.061     360.532\n",
      "x3           108.7088    113.788      0.955      0.362    -144.828     362.245\n",
      "x4          -283.9034     79.242     -3.583      0.005    -460.465    -107.342\n",
      "x5           455.6399    138.842      3.282      0.008     146.280     765.000\n",
      "==============================================================================\n",
      "Omnibus:                        0.579   Durbin-Watson:                   1.414\n",
      "Prob(Omnibus):                  0.749   Jarque-Bera (JB):                0.100\n",
      "Skew:                          -0.199   Prob(JB):                        0.951\n",
      "Kurtosis:                       2.958   Cond. No.                     1.26e+17\n",
      "==============================================================================\n",
      "\n",
      "Notes:\n",
      "[1] Standard Errors assume that the covariance matrix of the errors is correctly specified.\n",
      "[2] The smallest eigenvalue is 2.9e-33. This might indicate that there are\n",
      "strong multicollinearity problems or that the design matrix is singular.\n"
     ]
    },
    {
     "name": "stderr",
     "output_type": "stream",
     "text": [
      "g:\\내 드라이브\\노트북\\23-겨울\\빅데이터_미래사회\\venv\\Lib\\site-packages\\scipy\\stats\\_stats_py.py:1806: UserWarning: kurtosistest only valid for n>=20 ... continuing anyway, n=15\n",
      "  warnings.warn(\"kurtosistest only valid for n>=20 ... continuing \"\n"
     ]
    }
   ],
   "source": [
    "scaler = StandardScaler()\n",
    "X_scaled = scaler.fit_transform(X)\n",
    "\n",
    "model = sm.OLS(Y, sm.add_constant(X_scaled)).fit()\n",
    "\n",
    "print(model.summary())"
   ]
  },
  {
   "cell_type": "markdown",
   "metadata": {},
   "source": [
    "### 사망자수 예측 모델 학습 : 우울증, 빈곤률, 1인가구"
   ]
  },
  {
   "cell_type": "code",
   "execution_count": 9,
   "metadata": {},
   "outputs": [],
   "source": [
    "X = select_data.drop(['무연고사망자수', '년도', '실업률_60세이상'], axis = 1)\n",
    "Y = select_data['무연고사망자수']"
   ]
  },
  {
   "cell_type": "code",
   "execution_count": 10,
   "metadata": {},
   "outputs": [],
   "source": [
    "X_train, X_test, Y_train, Y_test = train_test_split(X, Y, test_size = 0.1, random_state = 42)"
   ]
  },
  {
   "cell_type": "code",
   "execution_count": 11,
   "metadata": {},
   "outputs": [
    {
     "data": {
      "text/plain": [
       "50.263111168311156"
      ]
     },
     "execution_count": 11,
     "metadata": {},
     "output_type": "execute_result"
    }
   ],
   "source": [
    "model = ElasticNet(alpha=0.05, l1_ratio=0.8, max_iter = 50, random_state = 42)\n",
    "model.fit(X_train, Y_train)\n",
    "\n",
    "y_pred = model.predict(X_test)\n",
    "rmse = mean_squared_error(Y_test, y_pred) ** 0.5\n",
    "rmse"
   ]
  },
  {
   "cell_type": "code",
   "execution_count": 12,
   "metadata": {},
   "outputs": [
    {
     "name": "stdout",
     "output_type": "stream",
     "text": [
      "42.98254888120391\n"
     ]
    }
   ],
   "source": [
    "absolute_errors = np.abs(Y_test - y_pred)\n",
    "mean_absolute_error = np.mean(absolute_errors)\n",
    "print(mean_absolute_error)"
   ]
  },
  {
   "cell_type": "code",
   "execution_count": 13,
   "metadata": {},
   "outputs": [
    {
     "name": "stdout",
     "output_type": "stream",
     "text": [
      "0.9742946427832289\n"
     ]
    }
   ],
   "source": [
    "r_squared = r2_score(Y_test, y_pred)\n",
    "\n",
    "print(r_squared)"
   ]
  },
  {
   "cell_type": "code",
   "execution_count": 14,
   "metadata": {},
   "outputs": [
    {
     "data": {
      "text/plain": [
       "array([1750.96210932, 2463.92720709])"
      ]
     },
     "execution_count": 14,
     "metadata": {},
     "output_type": "execute_result"
    }
   ],
   "source": [
    "y_pred"
   ]
  },
  {
   "cell_type": "markdown",
   "metadata": {},
   "source": [
    "### 다른 3개 feature 예측 모델"
   ]
  },
  {
   "cell_type": "code",
   "execution_count": 15,
   "metadata": {},
   "outputs": [
    {
     "data": {
      "text/html": [
       "<div>\n",
       "<style scoped>\n",
       "    .dataframe tbody tr th:only-of-type {\n",
       "        vertical-align: middle;\n",
       "    }\n",
       "\n",
       "    .dataframe tbody tr th {\n",
       "        vertical-align: top;\n",
       "    }\n",
       "\n",
       "    .dataframe thead th {\n",
       "        text-align: right;\n",
       "    }\n",
       "</style>\n",
       "<table border=\"1\" class=\"dataframe\">\n",
       "  <thead>\n",
       "    <tr style=\"text-align: right;\">\n",
       "      <th></th>\n",
       "      <th>우울증_65세이상</th>\n",
       "      <th>빈곤률</th>\n",
       "      <th>1인가구</th>\n",
       "    </tr>\n",
       "  </thead>\n",
       "  <tbody>\n",
       "    <tr>\n",
       "      <th>0</th>\n",
       "      <td>4.55</td>\n",
       "      <td>43.6</td>\n",
       "      <td>17.7</td>\n",
       "    </tr>\n",
       "    <tr>\n",
       "      <th>1</th>\n",
       "      <td>4.65</td>\n",
       "      <td>44.1</td>\n",
       "      <td>17.9</td>\n",
       "    </tr>\n",
       "    <tr>\n",
       "      <th>2</th>\n",
       "      <td>4.90</td>\n",
       "      <td>45.9</td>\n",
       "      <td>18.2</td>\n",
       "    </tr>\n",
       "    <tr>\n",
       "      <th>3</th>\n",
       "      <td>3.55</td>\n",
       "      <td>46.3</td>\n",
       "      <td>18.5</td>\n",
       "    </tr>\n",
       "    <tr>\n",
       "      <th>4</th>\n",
       "      <td>4.00</td>\n",
       "      <td>46.5</td>\n",
       "      <td>18.5</td>\n",
       "    </tr>\n",
       "    <tr>\n",
       "      <th>5</th>\n",
       "      <td>4.45</td>\n",
       "      <td>45.4</td>\n",
       "      <td>18.4</td>\n",
       "    </tr>\n",
       "    <tr>\n",
       "      <th>6</th>\n",
       "      <td>5.55</td>\n",
       "      <td>46.3</td>\n",
       "      <td>18.4</td>\n",
       "    </tr>\n",
       "    <tr>\n",
       "      <th>7</th>\n",
       "      <td>5.75</td>\n",
       "      <td>44.5</td>\n",
       "      <td>18.4</td>\n",
       "    </tr>\n",
       "    <tr>\n",
       "      <th>8</th>\n",
       "      <td>5.35</td>\n",
       "      <td>43.2</td>\n",
       "      <td>18.5</td>\n",
       "    </tr>\n",
       "    <tr>\n",
       "      <th>9</th>\n",
       "      <td>5.80</td>\n",
       "      <td>43.6</td>\n",
       "      <td>18.8</td>\n",
       "    </tr>\n",
       "    <tr>\n",
       "      <th>10</th>\n",
       "      <td>6.55</td>\n",
       "      <td>42.3</td>\n",
       "      <td>19.0</td>\n",
       "    </tr>\n",
       "    <tr>\n",
       "      <th>11</th>\n",
       "      <td>6.35</td>\n",
       "      <td>42.0</td>\n",
       "      <td>19.3</td>\n",
       "    </tr>\n",
       "    <tr>\n",
       "      <th>12</th>\n",
       "      <td>5.70</td>\n",
       "      <td>41.4</td>\n",
       "      <td>19.5</td>\n",
       "    </tr>\n",
       "    <tr>\n",
       "      <th>13</th>\n",
       "      <td>5.75</td>\n",
       "      <td>38.9</td>\n",
       "      <td>19.8</td>\n",
       "    </tr>\n",
       "    <tr>\n",
       "      <th>14</th>\n",
       "      <td>5.95</td>\n",
       "      <td>39.3</td>\n",
       "      <td>20.6</td>\n",
       "    </tr>\n",
       "  </tbody>\n",
       "</table>\n",
       "</div>"
      ],
      "text/plain": [
       "    우울증_65세이상   빈곤률  1인가구\n",
       "0        4.55  43.6  17.7\n",
       "1        4.65  44.1  17.9\n",
       "2        4.90  45.9  18.2\n",
       "3        3.55  46.3  18.5\n",
       "4        4.00  46.5  18.5\n",
       "5        4.45  45.4  18.4\n",
       "6        5.55  46.3  18.4\n",
       "7        5.75  44.5  18.4\n",
       "8        5.35  43.2  18.5\n",
       "9        5.80  43.6  18.8\n",
       "10       6.55  42.3  19.0\n",
       "11       6.35  42.0  19.3\n",
       "12       5.70  41.4  19.5\n",
       "13       5.75  38.9  19.8\n",
       "14       5.95  39.3  20.6"
      ]
     },
     "execution_count": 15,
     "metadata": {},
     "output_type": "execute_result"
    }
   ],
   "source": [
    "X"
   ]
  },
  {
   "cell_type": "code",
   "execution_count": 16,
   "metadata": {},
   "outputs": [
    {
     "data": {
      "text/plain": [
       "0      603.0\n",
       "1      563.0\n",
       "2      521.0\n",
       "3      578.0\n",
       "4      675.0\n",
       "5     1025.0\n",
       "6     1280.0\n",
       "7     1379.0\n",
       "8     1676.0\n",
       "9     1820.0\n",
       "10    2008.0\n",
       "11    2447.0\n",
       "12    2656.0\n",
       "13    3136.0\n",
       "14    3603.0\n",
       "Name: 무연고사망자수, dtype: float64"
      ]
     },
     "execution_count": 16,
     "metadata": {},
     "output_type": "execute_result"
    }
   ],
   "source": [
    "Y"
   ]
  },
  {
   "cell_type": "code",
   "execution_count": 17,
   "metadata": {},
   "outputs": [],
   "source": [
    "prediction = pd.DataFrame()"
   ]
  },
  {
   "cell_type": "code",
   "execution_count": 18,
   "metadata": {},
   "outputs": [
    {
     "name": "stdout",
     "output_type": "stream",
     "text": [
      "    우울증_65세이상        빈곤률       1인가구\n",
      "0    6.749211        NaN        NaN\n",
      "1    7.043293        NaN        NaN\n",
      "2    7.356348        NaN        NaN\n",
      "3    7.688376        NaN        NaN\n",
      "4    8.039377        NaN        NaN\n",
      "5         NaN  38.281989        NaN\n",
      "6         NaN  37.243355        NaN\n",
      "7         NaN  36.137713        NaN\n",
      "8         NaN  34.965063        NaN\n",
      "9         NaN  33.725403        NaN\n",
      "10        NaN        NaN  20.502244\n",
      "11        NaN        NaN  20.844211\n",
      "12        NaN        NaN  21.208241\n",
      "13        NaN        NaN  21.594334\n",
      "14        NaN        NaN  22.002488\n"
     ]
    }
   ],
   "source": [
    "for feature in X.columns:\n",
    "    X_train = np.arange(15).reshape(-1, 1)\n",
    "    Y_train = X[feature].values\n",
    "\n",
    "    poly = PolynomialFeatures(degree=2)\n",
    "    X_poly = poly.fit_transform(X_train)\n",
    "\n",
    "    model_ela = ElasticNet(alpha=1.0, l1_ratio=0.8, max_iter = 50, random_state = 42)\n",
    "    model_ela.fit(X_poly, Y_train)\n",
    "\n",
    "    X_future = poly.transform(np.array([15, 16, 17, 18, 19]).reshape(-1, 1))\n",
    "    Y_future_pred = model_ela.predict(X_future)\n",
    "\n",
    "    df_future_predictions = pd.DataFrame({feature: Y_future_pred})\n",
    "    prediction = pd.concat([prediction, df_future_predictions], ignore_index=True)\n",
    "\n",
    "print(prediction)"
   ]
  },
  {
   "cell_type": "code",
   "execution_count": 19,
   "metadata": {},
   "outputs": [
    {
     "data": {
      "text/html": [
       "<div>\n",
       "<style scoped>\n",
       "    .dataframe tbody tr th:only-of-type {\n",
       "        vertical-align: middle;\n",
       "    }\n",
       "\n",
       "    .dataframe tbody tr th {\n",
       "        vertical-align: top;\n",
       "    }\n",
       "\n",
       "    .dataframe thead th {\n",
       "        text-align: right;\n",
       "    }\n",
       "</style>\n",
       "<table border=\"1\" class=\"dataframe\">\n",
       "  <thead>\n",
       "    <tr style=\"text-align: right;\">\n",
       "      <th></th>\n",
       "      <th>우울증_65세이상</th>\n",
       "      <th>빈곤률</th>\n",
       "      <th>1인가구</th>\n",
       "    </tr>\n",
       "  </thead>\n",
       "  <tbody>\n",
       "    <tr>\n",
       "      <th>0</th>\n",
       "      <td>6.749211</td>\n",
       "      <td>38.281989</td>\n",
       "      <td>20.502244</td>\n",
       "    </tr>\n",
       "    <tr>\n",
       "      <th>1</th>\n",
       "      <td>7.043293</td>\n",
       "      <td>37.243355</td>\n",
       "      <td>20.844211</td>\n",
       "    </tr>\n",
       "    <tr>\n",
       "      <th>2</th>\n",
       "      <td>7.356348</td>\n",
       "      <td>36.137713</td>\n",
       "      <td>21.208241</td>\n",
       "    </tr>\n",
       "    <tr>\n",
       "      <th>3</th>\n",
       "      <td>7.688376</td>\n",
       "      <td>34.965063</td>\n",
       "      <td>21.594334</td>\n",
       "    </tr>\n",
       "    <tr>\n",
       "      <th>4</th>\n",
       "      <td>8.039377</td>\n",
       "      <td>33.725403</td>\n",
       "      <td>22.002488</td>\n",
       "    </tr>\n",
       "  </tbody>\n",
       "</table>\n",
       "</div>"
      ],
      "text/plain": [
       "   우울증_65세이상        빈곤률       1인가구\n",
       "0   6.749211  38.281989  20.502244\n",
       "1   7.043293  37.243355  20.844211\n",
       "2   7.356348  36.137713  21.208241\n",
       "3   7.688376  34.965063  21.594334\n",
       "4   8.039377  33.725403  22.002488"
      ]
     },
     "execution_count": 19,
     "metadata": {},
     "output_type": "execute_result"
    }
   ],
   "source": [
    "prediction.iloc[:5, 1] = prediction.iloc[5:10, 1].values\n",
    "prediction.iloc[:5, 2] = prediction.iloc[10:15, 2].values\n",
    "\n",
    "prediction.drop(prediction.index[5:], inplace = True)\n",
    "\n",
    "prediction"
   ]
  },
  {
   "cell_type": "markdown",
   "metadata": {},
   "source": [
    "### 최종 예측 값"
   ]
  },
  {
   "cell_type": "code",
   "execution_count": 20,
   "metadata": {},
   "outputs": [
    {
     "data": {
      "text/plain": [
       "array([3928.07487868, 4387.86312011, 4877.31511905, 5396.4308755 ,\n",
       "       5945.21038947])"
      ]
     },
     "execution_count": 20,
     "metadata": {},
     "output_type": "execute_result"
    }
   ],
   "source": [
    "result = model.predict(prediction)\n",
    "result"
   ]
  },
  {
   "cell_type": "code",
   "execution_count": 21,
   "metadata": {},
   "outputs": [
    {
     "data": {
      "text/plain": [
       "0      603.0\n",
       "1      563.0\n",
       "2      521.0\n",
       "3      578.0\n",
       "4      675.0\n",
       "5     1025.0\n",
       "6     1280.0\n",
       "7     1379.0\n",
       "8     1676.0\n",
       "9     1820.0\n",
       "10    2008.0\n",
       "11    2447.0\n",
       "12    2656.0\n",
       "13    3136.0\n",
       "14    3603.0\n",
       "Name: 무연고사망자수, dtype: float64"
      ]
     },
     "execution_count": 21,
     "metadata": {},
     "output_type": "execute_result"
    }
   ],
   "source": [
    "Y"
   ]
  },
  {
   "cell_type": "code",
   "execution_count": 22,
   "metadata": {},
   "outputs": [
    {
     "data": {
      "text/plain": [
       "array([3928.07487868, 4387.86312011, 4877.31511905, 5396.4308755 ,\n",
       "       5945.21038947])"
      ]
     },
     "execution_count": 22,
     "metadata": {},
     "output_type": "execute_result"
    }
   ],
   "source": [
    "result"
   ]
  },
  {
   "cell_type": "code",
   "execution_count": 23,
   "metadata": {},
   "outputs": [
    {
     "data": {
      "text/plain": [
       "array([ 617.88466955,  728.37455814,  786.52140082,  616.6815963 ,\n",
       "        705.32850203,  884.30635942, 1048.95868298, 1327.46052807,\n",
       "       1464.94704469, 1750.96210932, 2253.91756029, 2463.92720709,\n",
       "       2523.72003045, 3075.52778072, 3669.37128655])"
      ]
     },
     "execution_count": 23,
     "metadata": {},
     "output_type": "execute_result"
    }
   ],
   "source": [
    "predict2 = model.predict(X)\n",
    "predict2"
   ]
  },
  {
   "cell_type": "code",
   "execution_count": 24,
   "metadata": {},
   "outputs": [
    {
     "data": {
      "text/plain": [
       "array([ 617.88466955,  728.37455814,  786.52140082,  616.6815963 ,\n",
       "        705.32850203,  884.30635942, 1048.95868298, 1327.46052807,\n",
       "       1464.94704469, 1750.96210932, 2253.91756029, 2463.92720709,\n",
       "       2523.72003045, 3075.52778072, 3669.37128655, 3928.07487868,\n",
       "       4387.86312011, 4877.31511905, 5396.4308755 , 5945.21038947])"
      ]
     },
     "execution_count": 24,
     "metadata": {},
     "output_type": "execute_result"
    }
   ],
   "source": [
    "final = np.concatenate((predict2, result))\n",
    "final"
   ]
  },
  {
   "cell_type": "markdown",
   "metadata": {},
   "source": [
    "### 시각화"
   ]
  },
  {
   "cell_type": "code",
   "execution_count": 32,
   "metadata": {},
   "outputs": [
    {
     "data": {
      "image/png": "[encoded data removed]",
      "text/plain": [
       "<Figure size 640x480 with 1 Axes>"
      ]
     },
     "metadata": {},
     "output_type": "display_data"
    }
   ],
   "source": [
    "x = np.arange(2007, 2022)\n",
    "x2 = np.arange(2007, 2027)\n",
    "\n",
    "sns.lineplot(x = x, y = Y, label = 'actual')\n",
    "sns.lineplot(x = x2, y = final, label = 'predict')\n",
    "\n",
    "plt.xlabel('년도')\n",
    "plt.xticks(np.arange(2007, 2028, 2))\n",
    "plt.legend()\n",
    "plt.show()"
   ]
  },
  {
   "cell_type": "code",
   "execution_count": null,
   "metadata": {},
   "outputs": [],
   "source": []
  }
 ],
 "metadata": {
  "kernelspec": {
   "display_name": "venv",
   "language": "python",
   "name": "python3"
  },
  "language_info": {
   "codemirror_mode": {
    "name": "ipython",
    "version": 3
   },
   "file_extension": ".py",
   "mimetype": "text/x-python",
   "name": "python",
   "nbconvert_exporter": "python",
   "pygments_lexer": "ipython3",
   "version": "3.11.4"
  }
 },
 "nbformat": 4,
 "nbformat_minor": 2
}
